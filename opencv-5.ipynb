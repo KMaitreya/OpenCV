{
 "cells": [
  {
   "cell_type": "code",
   "execution_count": 1,
   "id": "2178dc1a",
   "metadata": {},
   "outputs": [],
   "source": [
    "#drawing shapes and writing text on images"
   ]
  },
  {
   "cell_type": "code",
   "execution_count": 2,
   "id": "0c941dc4",
   "metadata": {},
   "outputs": [],
   "source": [
    "#importing libraries\n",
    "import cv2\n",
    "import numpy as np\n",
    "import matplotlib.pyplot as plt"
   ]
  },
  {
   "cell_type": "code",
   "execution_count": 43,
   "id": "872e8495",
   "metadata": {},
   "outputs": [],
   "source": [
    "#creating a 0s matrix where we will draw the image\n",
    "img=np.zeros((512, 512, 3), np.uint8)           #uint8: 0 to 255"
   ]
  },
  {
   "cell_type": "code",
   "execution_count": 39,
   "id": "561b3456",
   "metadata": {},
   "outputs": [
    {
     "data": {
      "text/plain": [
       "<matplotlib.image.AxesImage at 0x229a321f700>"
      ]
     },
     "execution_count": 39,
     "metadata": {},
     "output_type": "execute_result"
    },
    {
     "data": {
      "image/png": "[encoded data removed]",
      "text/plain": [
       "<Figure size 432x288 with 1 Axes>"
      ]
     },
     "metadata": {
      "needs_background": "light"
     },
     "output_type": "display_data"
    }
   ],
   "source": [
    "#displaying the numpy array as an image\n",
    "plt.imshow(img)"
   ]
  },
  {
   "cell_type": "code",
   "execution_count": 44,
   "id": "baf9da1d",
   "metadata": {},
   "outputs": [
    {
     "data": {
      "text/plain": [
       "<matplotlib.image.AxesImage at 0x229a49789d0>"
      ]
     },
     "execution_count": 44,
     "metadata": {},
     "output_type": "execute_result"
    },
    {
     "data": {
      "image/png": "[encoded data removed]",
      "text/plain": [
       "<Figure size 432x288 with 1 Axes>"
      ]
     },
     "metadata": {
      "needs_background": "light"
     },
     "output_type": "display_data"
    }
   ],
   "source": [
    "#drawing various shapes\n",
    "\n",
    "#drawing a circle\n",
    "circle=cv2.circle(img, (250, 250), 100, (0, 0, 255), 5)\n",
    "#arguments        1        2        3       4        5\n",
    "#   1->image on which the circle is to be drawn\n",
    "#   2->coordinates og the center\n",
    "#   3->radius of the circle\n",
    "#   4->colour palette in BGR format\n",
    "#   5->thickness of the boundary\n",
    "plt.imshow(circle)\n",
    "\n",
    "#drawing a rectangle\n",
    "rect=cv2.rectangle(img, (250, 250), (500, 400), (0, 255, 0), 5)\n",
    "#arguments    1        2           3            4       5\n",
    "#   1->image on which the circle is to be drawn\n",
    "#   2->coordinates of endpoint 1 of diagonal\n",
    "#   3->coordinates of endpoint 2 of diagonal\n",
    "#   4->colour palette in BGR format\n",
    "#   5->thickness of the boundary\n",
    "plt.imshow(rect)\n",
    "\n",
    "#drawing a line\n",
    "line=cv2.line(img, (100, 100), (100, 400), (255, 0, 0), 5)\n",
    "#arguments    1        2           3            4       5\n",
    "#   1->image on which the circle is to be drawn\n",
    "#   2->coordinates of point1\n",
    "#   3->coordinates of point 2\n",
    "#   4->colour palette in BGR format\n",
    "#   5->thickness of the line\n",
    "plt.imshow(line)\n",
    "\n",
    "#write on the image\n",
    "text=cv2.putText(img, \"hello\", (200, 100), cv2.FONT_HERSHEY_COMPLEX, 2, (255, 255, 255))\n",
    "#arguments        1     2          3       4                5         6\n",
    "#   1->image on which the circle is to be drawn\n",
    "#   2->text to be written\n",
    "#   3->coordinates of starting point\n",
    "#   4->Font\n",
    "#   5->Font size\n",
    "#   6->colour\n",
    "plt.imshow(text)"
   ]
  }
 ],
 "metadata": {
  "kernelspec": {
   "display_name": "Python 3",
   "language": "python",
   "name": "python3"
  },
  "language_info": {
   "codemirror_mode": {
    "name": "ipython",
    "version": 3
   },
   "file_extension": ".py",
   "mimetype": "text/x-python",
   "name": "python",
   "nbconvert_exporter": "python",
   "pygments_lexer": "ipython3",
   "version": "3.8.8"
  }
 },
 "nbformat": 4,
 "nbformat_minor": 5
}
