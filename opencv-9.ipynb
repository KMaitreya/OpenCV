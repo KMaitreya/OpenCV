{
 "cells": [
  {
   "cell_type": "code",
   "execution_count": 28,
   "id": "8cc4e975",
   "metadata": {},
   "outputs": [],
   "source": [
    "#ball tracking"
   ]
  },
  {
   "cell_type": "code",
   "execution_count": 29,
   "id": "a352dfa3",
   "metadata": {},
   "outputs": [],
   "source": [
    "#importing libraries\n",
    "import cv2\n",
    "import numpy as np\n",
    "import matplotlib.pyplot as plt"
   ]
  },
  {
   "cell_type": "code",
   "execution_count": 30,
   "id": "2e1a5693",
   "metadata": {},
   "outputs": [],
   "source": [
    "#initialising variables\n",
    "ball=[]"
   ]
  },
  {
   "cell_type": "code",
   "execution_count": 31,
   "id": "cda56aef",
   "metadata": {},
   "outputs": [],
   "source": [
    "#reading the video\n",
    "cap=cv2.VideoCapture(\"videos/video.mp4\")\n",
    "\n",
    "#saving the video with ball detection\n",
    "out=cv2.VideoWriter(\"videos/output_ball.avi\", cv2.VideoWriter_fourcc('M', 'J', 'P', 'G'), 10, (1920, 1080))"
   ]
  },
  {
   "cell_type": "code",
   "execution_count": 32,
   "id": "99261b0c",
   "metadata": {},
   "outputs": [],
   "source": [
    "#reading the image frame by frame\n",
    "while cap.isOpened():\n",
    "    ret, frame=cap.read()   #ret will tell us if the frame is readable or not \n",
    "    \n",
    "    if ret is False:\n",
    "        break\n",
    "        \n",
    "    #converting bgr image to hsv image\n",
    "    hsv_frame=cv2.cvtColor(frame, cv2.COLOR_BGR2HSV)\n",
    "    \n",
    "    #defining lower and upper bound\n",
    "    lower_bound=np.array([21, 0, 0])\n",
    "    upper_bound=np.array([45, 255, 255])\n",
    "    \n",
    "    #creating a mask\n",
    "    mask=cv2.inRange(hsv_frame, lower_bound, upper_bound)\n",
    "    \n",
    "    #detecting the contours\n",
    "    (contours,_)=cv2.findContours(mask, cv2.RETR_TREE, cv2.CHAIN_APPROX_SIMPLE)\n",
    "    \n",
    "    #because we don't know where the contour is we will put its center as none\n",
    "    center=None\n",
    "    \n",
    "    #finding the location of the contour and it's center\n",
    "    if len(contours)>0:\n",
    "        c=max(contours, key=cv2.contourArea)\n",
    "        ((x, y), radius)=cv2.minEnclosingCircle(c)\n",
    "        M=cv2.moments(c)\n",
    "        \n",
    "        try:\n",
    "            #getting the center coordinates and drawing the circle\n",
    "            center=(int(M[\"m10\"]/M[\"m00\"]), int(M[\"m01\"]/M[\"m00\"]))\n",
    "            cv2.circle(frame, center, 10, (255, 0, 0), -1)\n",
    "            \n",
    "            #appending each center coordinate to the array ball\n",
    "            ball.append(center)\n",
    "        \n",
    "        except:\n",
    "            pass\n",
    "        \n",
    "        #draw the track of the ball\n",
    "        if len(ball)>2:\n",
    "            for i in range(1, len(ball)):\n",
    "                cv2.line(frame, ball[i-1], ball[i], (0, 0, 255), 5)\n",
    "                \n",
    "    out.write(frame)"
   ]
  },
  {
   "cell_type": "code",
   "execution_count": 33,
   "id": "86ee7448",
   "metadata": {},
   "outputs": [],
   "source": [
    "#closing the output file\n",
    "out.release()"
   ]
  }
 ],
 "metadata": {
  "kernelspec": {
   "display_name": "Python 3",
   "language": "python",
   "name": "python3"
  },
  "language_info": {
   "codemirror_mode": {
    "name": "ipython",
    "version": 3
   },
   "file_extension": ".py",
   "mimetype": "text/x-python",
   "name": "python",
   "nbconvert_exporter": "python",
   "pygments_lexer": "ipython3",
   "version": "3.8.8"
  }
 },
 "nbformat": 4,
 "nbformat_minor": 5
}
